{
  "nbformat": 4,
  "nbformat_minor": 0,
  "metadata": {
    "colab": {
      "provenance": [],
      "authorship_tag": "ABX9TyO/djBKnoyzc0+ExLO0/ets",
      "include_colab_link": true
    },
    "kernelspec": {
      "name": "python3",
      "display_name": "Python 3"
    },
    "language_info": {
      "name": "python"
    }
  },
  "cells": [
    {
      "cell_type": "markdown",
      "metadata": {
        "id": "view-in-github",
        "colab_type": "text"
      },
      "source": [
        "<a href=\"https://colab.research.google.com/github/ChitviJoshi/Mini-Project-01/blob/main/Python_Assignment_.ipynb\" target=\"_parent\"><img src=\"https://colab.research.google.com/assets/colab-badge.svg\" alt=\"Open In Colab\"/></a>"
      ]
    },
    {
      "cell_type": "code",
      "execution_count": null,
      "metadata": {
        "id": "uIQrfXgqE4hN"
      },
      "outputs": [],
      "source": []
    },
    {
      "cell_type": "markdown",
      "source": [
        "# **DAY 2 (10 JUNE 2025)**\n",
        "\n",
        "## Mini Project-01: Python Assignment\n",
        "\n",
        "\n"
      ],
      "metadata": {
        "id": "2p3UkxpQFQ_H"
      }
    },
    {
      "cell_type": "markdown",
      "source": [
        "###Q1. L is a list defined as L= [11, 12, 13, 14].\n",
        "\n"
      ],
      "metadata": {
        "id": "HmHvqZE5GNO3"
      }
    },
    {
      "cell_type": "markdown",
      "source": [
        "(i) WAP to add 50 and 60 to L.  "
      ],
      "metadata": {
        "id": "syRbY0LbGyBS"
      }
    },
    {
      "cell_type": "code",
      "source": [
        "L= [11, 12, 13, 14]\n",
        "L.extend([50,60])\n",
        "print(L)"
      ],
      "metadata": {
        "colab": {
          "base_uri": "https://localhost:8080/"
        },
        "id": "HZK_J8wkJuOa",
        "outputId": "3a5cc486-f6f4-4343-efd3-7aaa400f2c17"
      },
      "execution_count": null,
      "outputs": [
        {
          "output_type": "stream",
          "name": "stdout",
          "text": [
            "[11, 12, 13, 14, 50, 60]\n"
          ]
        }
      ]
    },
    {
      "cell_type": "markdown",
      "source": [
        "(ii) WAP to remove 11 and 13 from L."
      ],
      "metadata": {
        "id": "Rin46LrTHrhm"
      }
    },
    {
      "cell_type": "code",
      "source": [
        "L= [11, 12, 13, 14]\n",
        "L.remove(11)\n",
        "L.remove(13)\n",
        "print(L)"
      ],
      "metadata": {
        "colab": {
          "base_uri": "https://localhost:8080/"
        },
        "id": "8oILNE7QJ1_C",
        "outputId": "762260bd-ba54-4573-f809-d778b8dcc7fa"
      },
      "execution_count": null,
      "outputs": [
        {
          "output_type": "stream",
          "name": "stdout",
          "text": [
            "[12, 14]\n"
          ]
        }
      ]
    },
    {
      "cell_type": "markdown",
      "source": [
        "(iii) WAP to sort L in ascending order."
      ],
      "metadata": {
        "id": "m1DwCjvCJMJg"
      }
    },
    {
      "cell_type": "code",
      "source": [
        "L= [11, 13, 14, 12]\n",
        "L.sort()\n",
        "print(L)"
      ],
      "metadata": {
        "colab": {
          "base_uri": "https://localhost:8080/"
        },
        "id": "sjksRJr9J_X-",
        "outputId": "79eaf70c-a21b-41ae-dd01-e891e030e60f"
      },
      "execution_count": null,
      "outputs": [
        {
          "output_type": "stream",
          "name": "stdout",
          "text": [
            "[11, 12, 13, 14]\n"
          ]
        }
      ]
    },
    {
      "cell_type": "markdown",
      "source": [
        "iv) WAP to sort L in descending order."
      ],
      "metadata": {
        "id": "zT6TNHsXJQMt"
      }
    },
    {
      "cell_type": "code",
      "source": [
        "L=[11, 13, 14, 12]\n",
        "L.sort(reverse=True)\n",
        "print(L)"
      ],
      "metadata": {
        "colab": {
          "base_uri": "https://localhost:8080/"
        },
        "id": "QbgL9eKJKNiQ",
        "outputId": "86862142-c0db-43a0-c5f3-b23b206f7e9c"
      },
      "execution_count": null,
      "outputs": [
        {
          "output_type": "stream",
          "name": "stdout",
          "text": [
            "[14, 13, 12, 11]\n"
          ]
        }
      ]
    },
    {
      "cell_type": "markdown",
      "source": [
        "(v) WAP to search for 13 in L."
      ],
      "metadata": {
        "id": "_g2UyRaVJTvJ"
      }
    },
    {
      "cell_type": "code",
      "source": [
        "L= [11, 12, 13, 14]\n",
        "print(L.index(13))\n"
      ],
      "metadata": {
        "colab": {
          "base_uri": "https://localhost:8080/"
        },
        "id": "J95HhCVBKvU6",
        "outputId": "bde17e0f-c4e9-4501-e89a-d892c9f51eee"
      },
      "execution_count": null,
      "outputs": [
        {
          "output_type": "stream",
          "name": "stdout",
          "text": [
            "2\n"
          ]
        }
      ]
    },
    {
      "cell_type": "markdown",
      "source": [
        "(vi) WAP to count the number of elements present in L."
      ],
      "metadata": {
        "id": "g5F3K0XPJagM"
      }
    },
    {
      "cell_type": "code",
      "source": [
        "L= [11, 12, 13, 14]\n",
        "print(len(L))"
      ],
      "metadata": {
        "colab": {
          "base_uri": "https://localhost:8080/"
        },
        "id": "Sx5ro5d_MBNx",
        "outputId": "fa942aa6-cd3f-41e2-a773-1435f3f77b6e"
      },
      "execution_count": null,
      "outputs": [
        {
          "output_type": "stream",
          "name": "stdout",
          "text": [
            "4\n"
          ]
        }
      ]
    },
    {
      "cell_type": "markdown",
      "source": [
        "(vii) WAP to sum all the elements in L.\n"
      ],
      "metadata": {
        "id": "hN1nX4q9JfdX"
      }
    },
    {
      "cell_type": "code",
      "source": [
        "L= [11, 12, 13, 14]\n",
        "s=0\n",
        "for i in range(0,len(L)):\n",
        "  s=s+L[i]\n",
        "print(s)"
      ],
      "metadata": {
        "colab": {
          "base_uri": "https://localhost:8080/"
        },
        "id": "8Q6tS1XyMQxj",
        "outputId": "eb63b362-c634-479a-93f2-6cddb5340588"
      },
      "execution_count": null,
      "outputs": [
        {
          "output_type": "stream",
          "name": "stdout",
          "text": [
            "50\n"
          ]
        }
      ]
    },
    {
      "cell_type": "markdown",
      "source": [
        "(viii) WAP to sum all ODD numbers in L.\n"
      ],
      "metadata": {
        "id": "C_tQwymKJjtM"
      }
    },
    {
      "cell_type": "code",
      "source": [
        "L= [11, 12, 13, 14]\n",
        "s=0\n",
        "for i in range(0,len(L)):\n",
        "  if L[i]%2==0:\n",
        "    continue\n",
        "  else:\n",
        "    s=s+L[i]\n",
        "print(f'sum of odds={s}')"
      ],
      "metadata": {
        "colab": {
          "base_uri": "https://localhost:8080/"
        },
        "id": "VLlSTAenMuId",
        "outputId": "5a4d5cdd-b5cc-4096-83ed-56e110993e73"
      },
      "execution_count": null,
      "outputs": [
        {
          "output_type": "stream",
          "name": "stdout",
          "text": [
            "sum of odds=24\n"
          ]
        }
      ]
    },
    {
      "cell_type": "markdown",
      "source": [
        "(ix) WAP to sum all EVEN numbers in L.\n"
      ],
      "metadata": {
        "id": "zcv4GtabJk-8"
      }
    },
    {
      "cell_type": "code",
      "source": [
        "L= [11, 12, 13, 14]\n",
        "s=0\n",
        "for i in range(0,len(L)):\n",
        "  if L[i]%2==0:\n",
        "    s=s+L[i]\n",
        "  else:\n",
        "    continue\n",
        "print(f'sum of evens={s}')"
      ],
      "metadata": {
        "colab": {
          "base_uri": "https://localhost:8080/"
        },
        "id": "uACO3sOtNM8j",
        "outputId": "0233efb2-a8a5-4397-d2c5-de833847422e"
      },
      "execution_count": null,
      "outputs": [
        {
          "output_type": "stream",
          "name": "stdout",
          "text": [
            "sum of evens=26\n"
          ]
        }
      ]
    },
    {
      "cell_type": "markdown",
      "source": [
        "(x)\n",
        "WAP to sum all PRIME numbers in L.\n"
      ],
      "metadata": {
        "id": "X-DllddFJmW-"
      }
    },
    {
      "cell_type": "code",
      "source": [
        "import math as m\n",
        "L= [11, 12, 13, 14]\n",
        "s=0\n",
        "def prime(n):\n",
        "    if n <= 1:\n",
        "        return False\n",
        "    for i in range(2, int(m.sqrt(n)) + 1):\n",
        "        if n % i == 0:\n",
        "            return False\n",
        "    else:\n",
        "      return True\n",
        "for i in range(0,len(L)):\n",
        "  if prime(L[i])==True:\n",
        "    s=s+L[i]\n",
        "print(f'Sum of primes={s}')"
      ],
      "metadata": {
        "colab": {
          "base_uri": "https://localhost:8080/"
        },
        "id": "Qa3KcTgnNVjm",
        "outputId": "8a3b847d-7577-4737-a167-bb0fc33f250c"
      },
      "execution_count": null,
      "outputs": [
        {
          "output_type": "stream",
          "name": "stdout",
          "text": [
            "Sum of primes=26\n"
          ]
        }
      ]
    },
    {
      "cell_type": "markdown",
      "source": [
        "(xi) WAP to clear all the elements in L.\n"
      ],
      "metadata": {
        "id": "X7_UUo09JoMg"
      }
    },
    {
      "cell_type": "code",
      "source": [
        "L= [11, 12, 13, 14]\n",
        "L.clear()\n",
        "print(L)"
      ],
      "metadata": {
        "colab": {
          "base_uri": "https://localhost:8080/"
        },
        "id": "uHrxAIP8P7zm",
        "outputId": "2c0bb684-e3c6-4fbe-edc0-67c55d826b0e"
      },
      "execution_count": null,
      "outputs": [
        {
          "output_type": "stream",
          "name": "stdout",
          "text": [
            "[]\n"
          ]
        }
      ]
    },
    {
      "cell_type": "markdown",
      "source": [
        "(xii) WAP to delete L."
      ],
      "metadata": {
        "id": "a0eFsKbkJqyK"
      }
    },
    {
      "cell_type": "code",
      "source": [
        "L= [11, 12, 13, 14]\n",
        "print(L)\n",
        "del(L)\n",
        "print(L)"
      ],
      "metadata": {
        "id": "l-bOc3hLQ1Q8",
        "outputId": "aaf4ead4-027b-42db-b281-628cd75b5e7f",
        "colab": {
          "base_uri": "https://localhost:8080/",
          "height": 199
        }
      },
      "execution_count": null,
      "outputs": [
        {
          "output_type": "stream",
          "name": "stdout",
          "text": [
            "[11, 12, 13, 14]\n"
          ]
        },
        {
          "output_type": "error",
          "ename": "NameError",
          "evalue": "name 'L' is not defined",
          "traceback": [
            "\u001b[0;31m---------------------------------------------------------------------------\u001b[0m",
            "\u001b[0;31mNameError\u001b[0m                                 Traceback (most recent call last)",
            "\u001b[0;32m<ipython-input-40-4a939a0eff44>\u001b[0m in \u001b[0;36m<cell line: 0>\u001b[0;34m()\u001b[0m\n\u001b[1;32m      2\u001b[0m \u001b[0mprint\u001b[0m\u001b[0;34m(\u001b[0m\u001b[0mL\u001b[0m\u001b[0;34m)\u001b[0m\u001b[0;34m\u001b[0m\u001b[0;34m\u001b[0m\u001b[0m\n\u001b[1;32m      3\u001b[0m \u001b[0;32mdel\u001b[0m\u001b[0;34m(\u001b[0m\u001b[0mL\u001b[0m\u001b[0;34m)\u001b[0m\u001b[0;34m\u001b[0m\u001b[0;34m\u001b[0m\u001b[0m\n\u001b[0;32m----> 4\u001b[0;31m \u001b[0mprint\u001b[0m\u001b[0;34m(\u001b[0m\u001b[0mL\u001b[0m\u001b[0;34m)\u001b[0m\u001b[0;34m\u001b[0m\u001b[0;34m\u001b[0m\u001b[0m\n\u001b[0m",
            "\u001b[0;31mNameError\u001b[0m: name 'L' is not defined"
          ]
        }
      ]
    },
    {
      "cell_type": "markdown",
      "source": [
        "### Q2. D is a dictionary defined as D= {1:5.6, 2:7.8, 3:6.6, 4:8.7, 5:7.7}.\n",
        "\n",
        "\n",
        "\n"
      ],
      "metadata": {
        "id": "WHmrI1CASn2i"
      }
    },
    {
      "cell_type": "markdown",
      "source": [
        "(i)\n",
        "WAP to add new entry in D; key=8 and value is 8.8\n"
      ],
      "metadata": {
        "id": "JJXA-tGWTjlQ"
      }
    },
    {
      "cell_type": "code",
      "source": [
        "D= {1:5.6, 2:7.8, 3:6.6, 4:8.7, 5:7.7}\n",
        "D.update({8:8.8})\n",
        "print(D)"
      ],
      "metadata": {
        "colab": {
          "base_uri": "https://localhost:8080/"
        },
        "id": "cn_2Ww8kTzpw",
        "outputId": "8e3be413-487c-439d-93bb-7c5f11e52814"
      },
      "execution_count": null,
      "outputs": [
        {
          "output_type": "stream",
          "name": "stdout",
          "text": [
            "{1: 5.6, 2: 7.8, 3: 6.6, 4: 8.7, 5: 7.7, 8: 8.8}\n"
          ]
        }
      ]
    },
    {
      "cell_type": "markdown",
      "source": [
        "(ii)\n",
        "WAP to remove key=2.\n"
      ],
      "metadata": {
        "id": "Rv6MEoCXTk2_"
      }
    },
    {
      "cell_type": "code",
      "source": [
        "D= {1:5.6, 2:7.8, 3:6.6, 4:8.7, 5:7.7}\n",
        "del(D[2])\n",
        "print(D)"
      ],
      "metadata": {
        "colab": {
          "base_uri": "https://localhost:8080/"
        },
        "id": "H6decYEuUYw-",
        "outputId": "21f69fee-8f7d-40b8-a83a-a5e5873b8480"
      },
      "execution_count": null,
      "outputs": [
        {
          "output_type": "stream",
          "name": "stdout",
          "text": [
            "{1: 5.6, 3: 6.6, 4: 8.7, 5: 7.7}\n"
          ]
        }
      ]
    },
    {
      "cell_type": "markdown",
      "source": [
        "(iii) WAP to check weather 6 key is present in D.\n"
      ],
      "metadata": {
        "id": "ccHGVhoiTo-0"
      }
    },
    {
      "cell_type": "code",
      "source": [
        "D= {1:5.6, 2:7.8, 3:6.6, 4:8.7, 5:7.7}\n",
        "f=1\n",
        "for i in D.keys():\n",
        "  if i==6:\n",
        "    f=0\n",
        "    break\n",
        "if f==0:\n",
        "  print('present')\n",
        "else:\n",
        "  print('absent')\n",
        "\n",
        "\n"
      ],
      "metadata": {
        "colab": {
          "base_uri": "https://localhost:8080/"
        },
        "id": "Pp3yuuhcUyct",
        "outputId": "3aeac37f-3f17-456f-a4c6-ae2803f50e43"
      },
      "execution_count": null,
      "outputs": [
        {
          "output_type": "stream",
          "name": "stdout",
          "text": [
            "absent\n"
          ]
        }
      ]
    },
    {
      "cell_type": "markdown",
      "source": [
        "(iv) WAP to count the number of elements present in D.\n"
      ],
      "metadata": {
        "id": "GSj_VBloTqeJ"
      }
    },
    {
      "cell_type": "code",
      "source": [
        "D= {1:5.6, 2:7.8, 3:6.6, 4:8.7, 5:7.7}\n",
        "print(len(D))"
      ],
      "metadata": {
        "colab": {
          "base_uri": "https://localhost:8080/"
        },
        "id": "zQArqJ2-ZV4N",
        "outputId": "3d9d1488-c40a-4bba-9ceb-f2494c9d60ca"
      },
      "execution_count": null,
      "outputs": [
        {
          "output_type": "stream",
          "name": "stdout",
          "text": [
            "5\n"
          ]
        }
      ]
    },
    {
      "cell_type": "markdown",
      "source": [
        "(v)\n",
        "WAP to add all the values present D.\n"
      ],
      "metadata": {
        "id": "gWnTaHppTsrZ"
      }
    },
    {
      "cell_type": "code",
      "source": [
        "D= {1:5.6, 2:7.8, 3:6.6, 4:8.7, 5:7.7}\n",
        "s=0\n",
        "for i in D.values():\n",
        "  s=s+i\n",
        "print(f'sum of values={s}')"
      ],
      "metadata": {
        "colab": {
          "base_uri": "https://localhost:8080/"
        },
        "id": "6eynCJdNZjWH",
        "outputId": "8c9120af-5ddd-492f-8a5b-4ade218c77b1"
      },
      "execution_count": null,
      "outputs": [
        {
          "output_type": "stream",
          "name": "stdout",
          "text": [
            "sum of values=36.4\n"
          ]
        }
      ]
    },
    {
      "cell_type": "markdown",
      "source": [
        "(vi) WAP to update the value of 3 to 7.1.\n"
      ],
      "metadata": {
        "id": "2ROvKvC0TuSA"
      }
    },
    {
      "cell_type": "code",
      "source": [
        "D= {1:5.6, 2:7.8, 3:6.6, 4:8.7, 5:7.7}\n",
        "D[3]=7.1\n",
        "print(D)"
      ],
      "metadata": {
        "colab": {
          "base_uri": "https://localhost:8080/"
        },
        "id": "4HsZcd_paK2b",
        "outputId": "43f2b93d-d4e2-4ede-edca-4812f33242a7"
      },
      "execution_count": null,
      "outputs": [
        {
          "output_type": "stream",
          "name": "stdout",
          "text": [
            "{1: 5.6, 2: 7.8, 3: 7.1, 4: 8.7, 5: 7.7}\n"
          ]
        }
      ]
    },
    {
      "cell_type": "markdown",
      "source": [
        "(vii) WAP to clear the dictionary."
      ],
      "metadata": {
        "id": "X8PgML_BTvmp"
      }
    },
    {
      "cell_type": "code",
      "source": [
        "D= {1:5.6, 2:7.8, 3:6.6, 4:8.7, 5:7.7}\n",
        "D.clear()\n",
        "print(D)"
      ],
      "metadata": {
        "colab": {
          "base_uri": "https://localhost:8080/"
        },
        "id": "d1HA9WjcaaHu",
        "outputId": "1bcd2d53-3375-4d58-b55d-1ad93c60c21c"
      },
      "execution_count": null,
      "outputs": [
        {
          "output_type": "stream",
          "name": "stdout",
          "text": [
            "{}\n"
          ]
        }
      ]
    },
    {
      "cell_type": "markdown",
      "source": [
        "### Q3. S1 is a set defined as S1= [10, 20, 30, 40, 50, 60].                   S2 is a set defined as S2= [40, 50, 60, 70, 80, 90].\n",
        "\n"
      ],
      "metadata": {
        "id": "NPinXbxzam-O"
      }
    },
    {
      "cell_type": "markdown",
      "source": [
        "(i)\n",
        "WAP to add 55 and 66 in Set S1.\n"
      ],
      "metadata": {
        "id": "T0nFbUubatj-"
      }
    },
    {
      "cell_type": "code",
      "source": [
        "S1= [10, 20, 30, 40, 50, 60]\n",
        "S2= [40, 50, 60, 70, 80, 90]\n",
        "S1.extend({55,66})\n",
        "print(S1)"
      ],
      "metadata": {
        "colab": {
          "base_uri": "https://localhost:8080/"
        },
        "id": "XffaiH3Mbj7Z",
        "outputId": "e3898188-5477-4d53-fff6-28387b373166"
      },
      "execution_count": null,
      "outputs": [
        {
          "output_type": "stream",
          "name": "stdout",
          "text": [
            "[10, 20, 30, 40, 50, 60, 66, 55]\n"
          ]
        }
      ]
    },
    {
      "cell_type": "markdown",
      "source": [
        "(ii)\n",
        "WAP to remove 10 and 30 from Set S1.\n"
      ],
      "metadata": {
        "id": "kTDjyHKYbbT6"
      }
    },
    {
      "cell_type": "code",
      "source": [
        "S1= [10, 20, 30, 40, 50, 60]\n",
        "S2= [40, 50, 60, 70, 80, 90]\n",
        "S1.remove(10)\n",
        "S1.remove(30)\n",
        "print(S1)"
      ],
      "metadata": {
        "colab": {
          "base_uri": "https://localhost:8080/"
        },
        "id": "H0tONY2Zb2S4",
        "outputId": "7c53e20b-974b-4182-b9ae-d02c881cd88e"
      },
      "execution_count": null,
      "outputs": [
        {
          "output_type": "stream",
          "name": "stdout",
          "text": [
            "[20, 40, 50, 60]\n"
          ]
        }
      ]
    },
    {
      "cell_type": "markdown",
      "source": [
        "(iii) WAP to check whether 40 is present in S1.\n"
      ],
      "metadata": {
        "id": "V58IsU5zbcsL"
      }
    },
    {
      "cell_type": "code",
      "source": [
        "S1= [10, 20, 30, 40, 50, 60]\n",
        "S2= [40, 50, 60, 70, 80, 90]\n",
        "print(40 in S1)"
      ],
      "metadata": {
        "colab": {
          "base_uri": "https://localhost:8080/"
        },
        "id": "m421J1Ipc0S3",
        "outputId": "1e85862a-b617-469b-821a-f3ac19fe128f"
      },
      "execution_count": null,
      "outputs": [
        {
          "output_type": "stream",
          "name": "stdout",
          "text": [
            "True\n"
          ]
        }
      ]
    },
    {
      "cell_type": "markdown",
      "source": [
        "(iv) WAP to find the union between S1 and S2.\n"
      ],
      "metadata": {
        "id": "KCMB9nJfbeMK"
      }
    },
    {
      "cell_type": "code",
      "source": [
        "S1= [10, 20, 30, 40, 50, 60]\n",
        "S2= [40, 50, 60, 70, 80, 90]\n",
        "a=set(S1).union(S2)\n",
        "print(a)"
      ],
      "metadata": {
        "colab": {
          "base_uri": "https://localhost:8080/"
        },
        "id": "YOUWmVbxdRWy",
        "outputId": "f9238bb2-6179-4274-ad42-6c807c5c53fd"
      },
      "execution_count": null,
      "outputs": [
        {
          "output_type": "stream",
          "name": "stdout",
          "text": [
            "{70, 10, 80, 20, 90, 30, 40, 50, 60}\n"
          ]
        }
      ]
    },
    {
      "cell_type": "markdown",
      "source": [
        "(v)\n",
        "WAP to find the intersection between S1 and S2.\n"
      ],
      "metadata": {
        "id": "hPklnVJLbfUm"
      }
    },
    {
      "cell_type": "code",
      "source": [
        "S1= [10, 20, 30, 40, 50, 60]\n",
        "S2= [40, 50, 60, 70, 80, 90]\n",
        "a=set(S1).intersection(S2)\n",
        "print(a)"
      ],
      "metadata": {
        "colab": {
          "base_uri": "https://localhost:8080/"
        },
        "id": "I2fatEPjfyaz",
        "outputId": "425e4c3d-6969-4c38-83d3-71f89cff8835"
      },
      "execution_count": null,
      "outputs": [
        {
          "output_type": "stream",
          "name": "stdout",
          "text": [
            "{40, 50, 60}\n"
          ]
        }
      ]
    },
    {
      "cell_type": "markdown",
      "source": [
        "(vi) WAP to find the S1 - S2."
      ],
      "metadata": {
        "id": "_yeI6TFbbg34"
      }
    },
    {
      "cell_type": "code",
      "source": [
        "S1 = [10, 20, 30, 40, 50, 60]\n",
        "S2 = [40, 50, 60, 70, 80, 90]\n",
        "\n",
        "diff = set(S1) - set(S2)\n",
        "print(diff)"
      ],
      "metadata": {
        "colab": {
          "base_uri": "https://localhost:8080/"
        },
        "id": "XUI-IsPGf9iF",
        "outputId": "0a06d06a-2853-4326-d1f1-af426e9ab10e"
      },
      "execution_count": null,
      "outputs": [
        {
          "output_type": "stream",
          "name": "stdout",
          "text": [
            "{10, 20, 30}\n"
          ]
        }
      ]
    },
    {
      "cell_type": "markdown",
      "source": [
        "###Q4. Write the following program.\n"
      ],
      "metadata": {
        "id": "FoASdnahBzV4"
      }
    },
    {
      "cell_type": "markdown",
      "source": [
        "(i)\n",
        "WAP to print 100 random strings whose length between 6 and 8.\n"
      ],
      "metadata": {
        "id": "1Xhq7u_ZB2gZ"
      }
    },
    {
      "cell_type": "code",
      "source": [
        "import random as r\n",
        "import string\n",
        "for i in range(100):\n",
        "  l=r.randint(6,8)\n",
        "  a=''.join(r.choices(string.ascii_letters,k=l))\n",
        "  print(a)"
      ],
      "metadata": {
        "colab": {
          "base_uri": "https://localhost:8080/"
        },
        "id": "mRHwiQnFB9OY",
        "outputId": "71868ea5-de4e-4d74-88d2-90705f6758dc"
      },
      "execution_count": null,
      "outputs": [
        {
          "output_type": "stream",
          "name": "stdout",
          "text": [
            "VTZVfevH\n",
            "IaGgath\n",
            "NLadOL\n",
            "KEkbGyex\n",
            "IwITICQ\n",
            "BLcGyL\n",
            "gbuGLVC\n",
            "dpIszSYG\n",
            "QVGnkh\n",
            "CDJpDgj\n",
            "qDOvnGU\n",
            "xfzjdzxA\n",
            "kCMmoB\n",
            "voNFJn\n",
            "ExoYlX\n",
            "UySvudku\n",
            "GeexuID\n",
            "wIgHwbKG\n",
            "vSBxrwv\n",
            "NqSxYHKd\n",
            "RJGULw\n",
            "TxWOehi\n",
            "iuhHTM\n",
            "MPCLDxE\n",
            "KcuCmfw\n",
            "FjZGiaU\n",
            "tXlHMsn\n",
            "MtCZbmr\n",
            "vvWOuI\n",
            "AxquEA\n",
            "xdvMHN\n",
            "PEnHVCV\n",
            "qBxDRvGK\n",
            "UnPWwex\n",
            "eYFthUqx\n",
            "DKbiYh\n",
            "NUtxns\n",
            "XJSxbvco\n",
            "fRUgMCCM\n",
            "hlxBBlC\n",
            "gRohWJM\n",
            "KCDRlHLu\n",
            "CcbgOHU\n",
            "EWFWcteg\n",
            "yurHMDw\n",
            "CbIdATeU\n",
            "QlGCYn\n",
            "UeElnn\n",
            "aRxisECM\n",
            "kUDlMIDQ\n",
            "rFsRXSey\n",
            "YsCIzhMY\n",
            "VDBqEJu\n",
            "scyvFo\n",
            "VpLqoFiK\n",
            "RAoRmdyq\n",
            "WxAQKNW\n",
            "qzuWiAs\n",
            "QGaBLI\n",
            "QrMRUfVe\n",
            "LcJgyUf\n",
            "OCmSFf\n",
            "QVFxOK\n",
            "PGwZpY\n",
            "nvRCeFtp\n",
            "yLywrgj\n",
            "TJjVhdLZ\n",
            "ZUPxePyZ\n",
            "zgnSubmh\n",
            "YPaCaH\n",
            "YltRnGb\n",
            "TsvNIlQ\n",
            "FFhOAT\n",
            "QhHTNE\n",
            "aFDUKAa\n",
            "KFRfqsw\n",
            "eTQshbX\n",
            "NcIpNzW\n",
            "Libkshu\n",
            "SGPRaKYZ\n",
            "WqdBZFAn\n",
            "OMBlKNF\n",
            "LsDjqFx\n",
            "yXluzn\n",
            "DOSPCwj\n",
            "dijVmx\n",
            "xzSOffi\n",
            "JAjipy\n",
            "JCnALjoC\n",
            "jrBVdc\n",
            "oHaLlMLA\n",
            "NvIxGG\n",
            "GGlkoV\n",
            "IURjJA\n",
            "sxHIxt\n",
            "cIAMiVr\n",
            "TiqyjUcU\n",
            "UdNzwab\n",
            "WqQWDE\n",
            "pdJCMOA\n"
          ]
        }
      ]
    },
    {
      "cell_type": "markdown",
      "source": [
        "(ii)\n",
        "WAP to print all prime numbers between 600 and 800.\n"
      ],
      "metadata": {
        "id": "sD3Z2f0hB4ZO"
      }
    },
    {
      "cell_type": "code",
      "source": [
        "def is_prime(n):\n",
        "  if n<2:\n",
        "    return False\n",
        "  else:\n",
        "    for i in range(2,int(n**0.5)+1):\n",
        "      if n%i==0:\n",
        "        return False\n",
        "      else:\n",
        "        return True\n",
        "for i in range(600,801):\n",
        "  if is_prime(i):\n",
        "    print(i)\n",
        "  else:\n",
        "    continue\n"
      ],
      "metadata": {
        "colab": {
          "base_uri": "https://localhost:8080/"
        },
        "id": "sNqMT6DHUOD1",
        "outputId": "9f17071c-1a65-4e4a-d308-1cce0d8c9992"
      },
      "execution_count": null,
      "outputs": [
        {
          "output_type": "stream",
          "name": "stdout",
          "text": [
            "601\n",
            "603\n",
            "605\n",
            "607\n",
            "609\n",
            "611\n",
            "613\n",
            "615\n",
            "617\n",
            "619\n",
            "621\n",
            "623\n",
            "625\n",
            "627\n",
            "629\n",
            "631\n",
            "633\n",
            "635\n",
            "637\n",
            "639\n",
            "641\n",
            "643\n",
            "645\n",
            "647\n",
            "649\n",
            "651\n",
            "653\n",
            "655\n",
            "657\n",
            "659\n",
            "661\n",
            "663\n",
            "665\n",
            "667\n",
            "669\n",
            "671\n",
            "673\n",
            "675\n",
            "677\n",
            "679\n",
            "681\n",
            "683\n",
            "685\n",
            "687\n",
            "689\n",
            "691\n",
            "693\n",
            "695\n",
            "697\n",
            "699\n",
            "701\n",
            "703\n",
            "705\n",
            "707\n",
            "709\n",
            "711\n",
            "713\n",
            "715\n",
            "717\n",
            "719\n",
            "721\n",
            "723\n",
            "725\n",
            "727\n",
            "729\n",
            "731\n",
            "733\n",
            "735\n",
            "737\n",
            "739\n",
            "741\n",
            "743\n",
            "745\n",
            "747\n",
            "749\n",
            "751\n",
            "753\n",
            "755\n",
            "757\n",
            "759\n",
            "761\n",
            "763\n",
            "765\n",
            "767\n",
            "769\n",
            "771\n",
            "773\n",
            "775\n",
            "777\n",
            "779\n",
            "781\n",
            "783\n",
            "785\n",
            "787\n",
            "789\n",
            "791\n",
            "793\n",
            "795\n",
            "797\n",
            "799\n"
          ]
        }
      ]
    },
    {
      "cell_type": "markdown",
      "source": [
        "(iii) WAP to print all numbers between 100 and 1000 that are divisible by 7 and 9."
      ],
      "metadata": {
        "id": "rid7xDFVB5qt"
      }
    },
    {
      "cell_type": "code",
      "source": [
        "for i in range(100,1001):\n",
        "  if i%63==0:\n",
        "    print(i)"
      ],
      "metadata": {
        "colab": {
          "base_uri": "https://localhost:8080/"
        },
        "id": "Ghz_Cn-tV4xN",
        "outputId": "b755b44c-692a-42d8-a62e-e9c081ccfbc1"
      },
      "execution_count": null,
      "outputs": [
        {
          "output_type": "stream",
          "name": "stdout",
          "text": [
            "126\n",
            "189\n",
            "252\n",
            "315\n",
            "378\n",
            "441\n",
            "504\n",
            "567\n",
            "630\n",
            "693\n",
            "756\n",
            "819\n",
            "882\n",
            "945\n"
          ]
        }
      ]
    },
    {
      "cell_type": "markdown",
      "source": [
        "###Q5. WAP to create two lists of 10 random numbers between 10 and 30; Find  \n"
      ],
      "metadata": {
        "id": "YdOvv7VdW06S"
      }
    },
    {
      "cell_type": "code",
      "source": [
        "import random as r\n",
        "l1=r.choices(range(10,31),k=10)\n",
        "print(f\"l1={l1}\")\n",
        "l2=r.choices(range(10,31),k=10)\n",
        "print(f\"l2={l2}\")"
      ],
      "metadata": {
        "colab": {
          "base_uri": "https://localhost:8080/"
        },
        "id": "xd6D8eWXXMNO",
        "outputId": "fbc0a8c5-5fc5-43df-a18e-601e150ca8fa"
      },
      "execution_count": null,
      "outputs": [
        {
          "output_type": "stream",
          "name": "stdout",
          "text": [
            "l1=[16, 23, 10, 21, 26, 11, 28, 11, 27, 15]\n",
            "l2=[15, 29, 27, 13, 17, 11, 30, 19, 22, 10]\n"
          ]
        }
      ]
    },
    {
      "cell_type": "markdown",
      "source": [
        "(i)\n",
        "Common numbers in the two lists\n"
      ],
      "metadata": {
        "id": "ZxAregzZW7eu"
      }
    },
    {
      "cell_type": "code",
      "source": [
        "l1=[16, 23, 10, 21, 26, 11, 28, 11, 27, 15]\n",
        "l2=[15, 29, 27, 13, 17, 11, 30, 19, 22, 10]\n",
        "a=set(l1).intersection(l2)\n",
        "print(a)\n"
      ],
      "metadata": {
        "colab": {
          "base_uri": "https://localhost:8080/"
        },
        "id": "43lvyrEBYQ0q",
        "outputId": "558b7504-a7e8-4e9f-f911-6dcfd2386bf2"
      },
      "execution_count": null,
      "outputs": [
        {
          "output_type": "stream",
          "name": "stdout",
          "text": [
            "{11, 10, 27, 15}\n"
          ]
        }
      ]
    },
    {
      "cell_type": "markdown",
      "source": [
        "(ii)\n",
        "Unique numbers in both the list\n"
      ],
      "metadata": {
        "id": "r6-ge0-QW8rP"
      }
    },
    {
      "cell_type": "code",
      "source": [
        "l1=[16, 23, 10, 21, 26, 11, 28, 11, 27, 15]\n",
        "l2=[15, 29, 27, 13, 17, 11, 30, 19, 22, 10]\n",
        "diff1=set(l1)-set(l2)\n",
        "diff2=set(l2)-set(l1)\n",
        "print(f'Unique number in l1={diff1}')\n",
        "print(f'Unique number in l2={diff2}')\n",
        "\n"
      ],
      "metadata": {
        "colab": {
          "base_uri": "https://localhost:8080/"
        },
        "id": "-FpxE2RfYikS",
        "outputId": "7befa2e8-48e8-473a-aea4-3e09dc4cc857"
      },
      "execution_count": null,
      "outputs": [
        {
          "output_type": "stream",
          "name": "stdout",
          "text": [
            "Unique number in l1={16, 21, 23, 26, 28}\n",
            "Unique number in l2={13, 17, 19, 22, 29, 30}\n"
          ]
        }
      ]
    },
    {
      "cell_type": "markdown",
      "source": [
        "(iii) Minimum in both the list\n"
      ],
      "metadata": {
        "id": "i1Cb5X7nW9wx"
      }
    },
    {
      "cell_type": "code",
      "source": [
        "l1=[16, 23, 12, 21, 26, 11, 28, 11, 27, 15]\n",
        "l2=[15, 29, 27, 13, 17, 11, 30, 19, 22, 10]\n",
        "def f_min(l):\n",
        "  min=l[0]\n",
        "  for i in l:\n",
        "    if i<min:\n",
        "      min=i\n",
        "  return min\n",
        "print(f'minimum of l1={f_min(l1)}')\n",
        "print(f'minimum of l2= {f_min(l2)}')\n",
        "\n"
      ],
      "metadata": {
        "colab": {
          "base_uri": "https://localhost:8080/"
        },
        "id": "vJ1fuA0aZOh6",
        "outputId": "99a9e651-3877-48db-99e1-0cca4b7ee1d7"
      },
      "execution_count": null,
      "outputs": [
        {
          "output_type": "stream",
          "name": "stdout",
          "text": [
            "minimum of l1=11\n",
            "minimum of l2= 10\n"
          ]
        }
      ]
    },
    {
      "cell_type": "markdown",
      "source": [
        "(iv) Maximum in both the list\n"
      ],
      "metadata": {
        "id": "Ef7QMDzIW_A5"
      }
    },
    {
      "cell_type": "code",
      "source": [
        "l1=[16, 23, 12, 21, 26, 11, 28, 11, 27, 15]\n",
        "l2=[15, 29, 27, 13, 17, 11, 30, 19, 22, 10]\n",
        "print(f'minimum of l1={max(l1)}')\n",
        "print(f'minimum of l2= {max(l2)}')"
      ],
      "metadata": {
        "colab": {
          "base_uri": "https://localhost:8080/"
        },
        "id": "QfnfDEdWiHwt",
        "outputId": "d406b766-604d-4896-c40d-be9692fa61e4"
      },
      "execution_count": null,
      "outputs": [
        {
          "output_type": "stream",
          "name": "stdout",
          "text": [
            "minimum of l1=28\n",
            "minimum of l2= 30\n"
          ]
        }
      ]
    },
    {
      "cell_type": "markdown",
      "source": [
        "(v)\n",
        "Sum of both the lists"
      ],
      "metadata": {
        "id": "hsf-Q1jfXBIR"
      }
    },
    {
      "cell_type": "code",
      "source": [
        "l1=[16, 23, 10, 21, 26, 11, 28, 11, 27, 15]\n",
        "l2=[15, 29, 27, 13, 17, 11, 30, 19, 22, 10]\n",
        "sum1=sum(l1)+sum(l2)\n",
        "print(f'sum of both lists={sum1}')\n"
      ],
      "metadata": {
        "colab": {
          "base_uri": "https://localhost:8080/"
        },
        "id": "8XYL3x19iS77",
        "outputId": "e2e5d07c-229d-49dd-b0cc-5061f0719824"
      },
      "execution_count": null,
      "outputs": [
        {
          "output_type": "stream",
          "name": "stdout",
          "text": [
            "sum of both lists=381\n"
          ]
        }
      ]
    },
    {
      "cell_type": "markdown",
      "source": [
        "###Q6. WAP to create a list of 100 random numbers between 100 and 900. Count and print the:  \n"
      ],
      "metadata": {
        "id": "12UqZgIli2fC"
      }
    },
    {
      "cell_type": "code",
      "source": [
        "l=r.choices(range(100,9001),k=100)\n",
        "print(l)"
      ],
      "metadata": {
        "colab": {
          "base_uri": "https://localhost:8080/"
        },
        "id": "7lrD5co6jHZJ",
        "outputId": "5553997a-765a-4e8b-c05e-c47e4430b408"
      },
      "execution_count": null,
      "outputs": [
        {
          "output_type": "stream",
          "name": "stdout",
          "text": [
            "[3763, 3380, 4950, 8738, 7086, 3737, 4038, 4062, 2398, 718, 3808, 6726, 3934, 4336, 8561, 937, 6968, 3541, 7124, 682, 8773, 2740, 1042, 5358, 963, 4411, 2158, 2505, 562, 7509, 5604, 2347, 3087, 8774, 4281, 7512, 3380, 8272, 3172, 3397, 1313, 2017, 5913, 2703, 1013, 8776, 2189, 3743, 1667, 6484, 2994, 3151, 6718, 3296, 4582, 4676, 4889, 6734, 2503, 1796, 5590, 4753, 5652, 2114, 4029, 981, 1185, 3701, 3141, 3772, 2349, 360, 5253, 7383, 4287, 7683, 6654, 2447, 3323, 7451, 7956, 6661, 4745, 1206, 601, 3289, 6804, 1499, 7705, 4746, 4782, 5918, 2038, 4374, 5930, 147, 3833, 3839, 4871, 1296]\n"
          ]
        }
      ]
    },
    {
      "cell_type": "markdown",
      "source": [
        "(i) All odd numbers\n"
      ],
      "metadata": {
        "id": "X-jGb6xHi_a0"
      }
    },
    {
      "cell_type": "code",
      "source": [
        "l=r.choices(range(100,9001),k=100)\n",
        "print(l)\n",
        "for i in l:\n",
        "  if i%2==0:\n",
        "    continue\n",
        "  else:\n",
        "    print(i)"
      ],
      "metadata": {
        "colab": {
          "base_uri": "https://localhost:8080/"
        },
        "id": "l5R00mIRjmEe",
        "outputId": "377a3391-2e10-4777-ef12-ed74013b183c"
      },
      "execution_count": null,
      "outputs": [
        {
          "output_type": "stream",
          "name": "stdout",
          "text": [
            "[1057, 5388, 6646, 6630, 2185, 7140, 4646, 6875, 2756, 6071, 1476, 5007, 7513, 3777, 5158, 2991, 1626, 3096, 6400, 5607, 4981, 4299, 8281, 4554, 416, 2192, 4854, 1567, 2068, 8804, 5813, 4293, 150, 6530, 6897, 2468, 994, 5059, 1041, 6539, 7760, 5035, 5354, 5978, 4218, 3730, 8922, 1224, 242, 8625, 3832, 1135, 829, 1736, 284, 7652, 5760, 471, 5784, 7541, 207, 2655, 1392, 7912, 6878, 1596, 8665, 2175, 6761, 1364, 5772, 488, 4225, 6966, 8369, 7421, 2370, 1227, 2016, 8732, 7668, 1932, 8211, 6565, 8697, 6859, 353, 1636, 1785, 2661, 798, 7800, 2357, 335, 4401, 8157, 8201, 6809, 5487, 2121]\n",
            "1057\n",
            "2185\n",
            "6875\n",
            "6071\n",
            "5007\n",
            "7513\n",
            "3777\n",
            "2991\n",
            "5607\n",
            "4981\n",
            "4299\n",
            "8281\n",
            "1567\n",
            "5813\n",
            "4293\n",
            "6897\n",
            "5059\n",
            "1041\n",
            "6539\n",
            "5035\n",
            "8625\n",
            "1135\n",
            "829\n",
            "471\n",
            "7541\n",
            "207\n",
            "2655\n",
            "8665\n",
            "2175\n",
            "6761\n",
            "4225\n",
            "8369\n",
            "7421\n",
            "1227\n",
            "8211\n",
            "6565\n",
            "8697\n",
            "6859\n",
            "353\n",
            "1785\n",
            "2661\n",
            "2357\n",
            "335\n",
            "4401\n",
            "8157\n",
            "8201\n",
            "6809\n",
            "5487\n",
            "2121\n"
          ]
        }
      ]
    },
    {
      "cell_type": "markdown",
      "source": [
        "(ii)\n",
        "All even numbers\n"
      ],
      "metadata": {
        "id": "_iMkMBFIjArz"
      }
    },
    {
      "cell_type": "code",
      "source": [
        "l=r.choices(range(100,9001),k=100)\n",
        "print(l)\n",
        "for i in l:\n",
        "  if i%2==0:\n",
        "     print(i)\n",
        "  else:\n",
        "    continue"
      ],
      "metadata": {
        "colab": {
          "base_uri": "https://localhost:8080/"
        },
        "id": "kuObyDopk3Fn",
        "outputId": "f283e07d-93d2-403f-d2f8-eac3a5b5974b"
      },
      "execution_count": null,
      "outputs": [
        {
          "output_type": "stream",
          "name": "stdout",
          "text": [
            "[2765, 1176, 3561, 792, 1004, 7457, 8539, 5180, 6555, 5008, 5361, 8840, 3803, 1633, 4519, 8743, 4549, 5868, 4672, 6480, 6592, 943, 3052, 6218, 7092, 5935, 6596, 4041, 4478, 3634, 4699, 4152, 6271, 4835, 4009, 5717, 2063, 7784, 7884, 7902, 706, 2656, 2188, 1834, 4983, 8799, 7073, 8968, 3032, 4270, 3860, 7505, 6729, 7954, 2567, 443, 8573, 3772, 2431, 845, 2275, 3191, 2692, 2635, 2380, 1275, 4093, 3482, 3651, 1806, 7461, 7201, 4925, 7187, 4007, 444, 7847, 5257, 8062, 431, 4396, 8887, 7534, 3775, 3036, 5418, 5972, 6599, 2827, 6600, 5782, 7123, 4176, 8744, 8581, 8237, 4273, 677, 2938, 6560]\n",
            "1176\n",
            "792\n",
            "1004\n",
            "5180\n",
            "5008\n",
            "8840\n",
            "5868\n",
            "4672\n",
            "6480\n",
            "6592\n",
            "3052\n",
            "6218\n",
            "7092\n",
            "6596\n",
            "4478\n",
            "3634\n",
            "4152\n",
            "7784\n",
            "7884\n",
            "7902\n",
            "706\n",
            "2656\n",
            "2188\n",
            "1834\n",
            "8968\n",
            "3032\n",
            "4270\n",
            "3860\n",
            "7954\n",
            "3772\n",
            "2692\n",
            "2380\n",
            "3482\n",
            "1806\n",
            "444\n",
            "8062\n",
            "4396\n",
            "7534\n",
            "3036\n",
            "5418\n",
            "5972\n",
            "6600\n",
            "5782\n",
            "4176\n",
            "8744\n",
            "2938\n",
            "6560\n"
          ]
        }
      ]
    },
    {
      "cell_type": "markdown",
      "source": [
        "(iii) All prime numbers"
      ],
      "metadata": {
        "id": "jOXf361WjB4e"
      }
    },
    {
      "cell_type": "code",
      "source": [
        "l=r.choices(range(100,9001),k=100)\n",
        "print(l)\n",
        "def if_prime(n):\n",
        "  if n<2:\n",
        "    return False\n",
        "  else:\n",
        "    for i in range(2,int(n**0.5)+1):\n",
        "      if n%i==0:\n",
        "        return False\n",
        "    return True\n",
        "for i in l:\n",
        "  if if_prime(i):\n",
        "     print(i)\n",
        "  else:\n",
        "    continue"
      ],
      "metadata": {
        "colab": {
          "base_uri": "https://localhost:8080/"
        },
        "id": "crIldrfblAuq",
        "outputId": "6f652925-229e-4dec-c09b-480e5466516b"
      },
      "execution_count": null,
      "outputs": [
        {
          "output_type": "stream",
          "name": "stdout",
          "text": [
            "[5173, 1922, 8466, 6705, 3032, 5724, 4559, 6882, 2968, 413, 2237, 6909, 2305, 2350, 4177, 840, 1614, 6746, 5042, 4927, 1695, 5465, 8106, 453, 7560, 5684, 3187, 1045, 3569, 3396, 886, 2652, 1677, 7609, 6097, 8288, 7570, 3572, 3851, 3539, 6708, 4027, 5437, 5694, 8454, 7304, 8532, 1638, 2905, 7939, 1216, 396, 5829, 8138, 1255, 1453, 1986, 7782, 7169, 3181, 6091, 4207, 2674, 8431, 3213, 226, 5388, 6229, 3020, 7263, 7253, 4826, 4357, 5312, 3835, 4815, 152, 170, 7437, 5502, 3223, 2942, 5297, 4441, 7377, 7795, 6893, 5521, 2013, 2800, 747, 1804, 872, 6931, 3394, 8160, 8639, 5742, 1372, 8687]\n",
            "2237\n",
            "4177\n",
            "3187\n",
            "3851\n",
            "3539\n",
            "4027\n",
            "5437\n",
            "1453\n",
            "3181\n",
            "6091\n",
            "8431\n",
            "6229\n",
            "7253\n",
            "4357\n",
            "5297\n",
            "4441\n",
            "5521\n"
          ]
        }
      ]
    },
    {
      "cell_type": "markdown",
      "source": [
        "###Q7. D is a dictionary defined as D={1:\"One\",2:\"Two\",3:\"Three\",4:\"Four\", 5:\"Five\"}.  \n",
        "####WAP to read all the keys and values from dictionary and write to the file in the given below format.\n",
        "#####Key1, Value1\n",
        "#####Key2, Value2\n",
        "#####Key3, Value3"
      ],
      "metadata": {
        "id": "Spw0ZFV4oTnb"
      }
    },
    {
      "cell_type": "code",
      "source": [
        "D={1:\"One\",2:\"Two\",3:\"Three\",4:\"Four\", 5:\"Five\"}\n",
        "fp=open('Q7.txt','w')\n",
        "for i in D.keys():\n",
        "  fp.write(f'{i},{D[i]}')\n",
        "  fp.write('\\n')\n",
        "fp.close()"
      ],
      "metadata": {
        "id": "2mYY7skcoraZ"
      },
      "execution_count": 19,
      "outputs": []
    },
    {
      "cell_type": "markdown",
      "source": [
        "###Q8. L is a list defined as L={\"One\",\"Two\",\"Three\",\"Four\",\"Five\"}.\n",
        "####WAP to count the length of reach element from a list and write to the file in the given below format:\n",
        "#####One, 3\n",
        "#####Two, 3\n",
        "#####Four, 4"
      ],
      "metadata": {
        "id": "J_tdsg4Apx8P"
      }
    },
    {
      "cell_type": "code",
      "source": [
        "L=[\"One\",\"Two\",\"Three\",\"Four\",\"Five\"]\n",
        "fp=open('Q8.txt','w')\n",
        "for i in L:\n",
        "  fp.write(f'{i},{len(i)}')\n",
        "  fp.write('\\n')\n",
        "fp.close()"
      ],
      "metadata": {
        "id": "EpklRO5Rp_zq"
      },
      "execution_count": 20,
      "outputs": []
    },
    {
      "cell_type": "markdown",
      "source": [
        "####Q9. Write to the file 100 random strings whose length between 10 and 15."
      ],
      "metadata": {
        "id": "yCvR4rWurEd_"
      }
    },
    {
      "cell_type": "code",
      "source": [
        "import random as r\n",
        "import string\n",
        "for i in range(1,101):\n",
        "  l=r.randint(10,16)\n",
        "  print(f\"{''.join(r.choices(string.ascii_letters,k=l))}\")"
      ],
      "metadata": {
        "colab": {
          "base_uri": "https://localhost:8080/"
        },
        "id": "MYYC70bJtTfA",
        "outputId": "149f20ca-5f12-42b9-d74f-60072e2f14f0"
      },
      "execution_count": null,
      "outputs": [
        {
          "output_type": "stream",
          "name": "stdout",
          "text": [
            "aNSjNLAZysCFtY\n",
            "JbNVHKYDSEhYL\n",
            "rzExJWpVOziz\n",
            "fabBApYfnTATOn\n",
            "vejnkakyztExIpB\n",
            "DWIhLsMoKlmxYSBa\n",
            "bZPAEkgceiXfE\n",
            "ZyaPtlDJksB\n",
            "RIDvspmYHyKiE\n",
            "qkAcvzGbdqjgaCp\n",
            "yDFnprXHBX\n",
            "RitKZrScSpUur\n",
            "wgcbnDcOrTM\n",
            "zWyZtAywhidUH\n",
            "FirwoUniudFPQX\n",
            "DzWLYHEQyIWqgO\n",
            "zmxIvBePiTK\n",
            "MBBdgJZGDqnZxp\n",
            "tEknVaQBod\n",
            "qHqOXzKzHnXmojbY\n",
            "AllFNEKKyGhPaKn\n",
            "nEkZZUrsHEMmcuJ\n",
            "wySxPTImnbxL\n",
            "ahdfUNzMSgb\n",
            "RXrcKKmltBpLDEA\n",
            "FPOFZYIDnCIBmBGS\n",
            "UPSXooDGSyYJc\n",
            "NAuRbzeKRad\n",
            "HQptmJLchYFv\n",
            "rRwjYXVTkPLzw\n",
            "pXgnoTnCpdhxhdLC\n",
            "QisCqniVvPmd\n",
            "nTNLKEihiWINtXh\n",
            "AZzwhFQRxPTIDJpS\n",
            "tyyzmsGvfGvEeKLO\n",
            "EKVmIxyMrdb\n",
            "VFgEXXXMWZf\n",
            "zlLuwaLtsjX\n",
            "swuhxQMPJUDnBqW\n",
            "FFWPeSPYmL\n",
            "AqkpatFPTFkI\n",
            "dwDGUoGHwzWtmav\n",
            "GENtaiXhfXiTB\n",
            "GoDgFkHyLveX\n",
            "RddjjCgwegu\n",
            "SFNxVHWYoYtG\n",
            "UywvwKQqICcq\n",
            "Rzqdihhzmjdccg\n",
            "yfTCptpyZWdy\n",
            "gnHpTNQqtY\n",
            "OwGxXzDmAwZxMZ\n",
            "EiTmEgTuwDQ\n",
            "LsCZUgliIAYn\n",
            "rRZxVsbvaUx\n",
            "JysORMmgeMf\n",
            "YUWjJcTtgFIpgUl\n",
            "kDotGylOnpp\n",
            "pgPzpDzQXvXgIK\n",
            "waKtiVyHntSIi\n",
            "CVSTHLykGuVvJ\n",
            "BeHhChqNBLuxTYga\n",
            "BJTEvpUxLXM\n",
            "HcCAqfhrIF\n",
            "eVsBaymRgE\n",
            "DbTduDSTobKWZzVM\n",
            "cPaiQdNMEzl\n",
            "zTDzcBlCFk\n",
            "sBzRTiUbvFpfG\n",
            "oExHnarLZt\n",
            "gwTEpLiVDdI\n",
            "XJjAciARUxYIQFVe\n",
            "zDkohoKmoAOiXJUP\n",
            "cPbWKtTmdhq\n",
            "EocgtKXOoNVw\n",
            "ykpVTQXqSEC\n",
            "UDKdykYtRN\n",
            "FCXZvuuQDcm\n",
            "iuRglQAKUipvX\n",
            "JlPXtCzEqB\n",
            "rwHnUtGDzCOAgRm\n",
            "cjrtdfkXVpQcYz\n",
            "BBxnEOIMsKdl\n",
            "DxvQyFOUmJtJYVDZ\n",
            "RJHDLLFVoTkn\n",
            "klajXkkyoWz\n",
            "zoDyqCVHGihN\n",
            "BatXBtWuApD\n",
            "LcjNQgkEsGvTujV\n",
            "cTehFOShHAUifWT\n",
            "DlyEwMscIZ\n",
            "mVxPUBFpsliZei\n",
            "sVVFkMTVaQv\n",
            "izNgGxmxQDLkzjZ\n",
            "WhKCnzkmpHU\n",
            "JWwDVogkSlPiLpDC\n",
            "mCsGtOqPoPFXE\n",
            "tktYYnUWvDbEGOn\n",
            "lPesgXMFrx\n",
            "uCVIBagEclgwGf\n",
            "UevkKgKYgoJe\n"
          ]
        }
      ]
    },
    {
      "cell_type": "markdown",
      "source": [
        "###Q10. Write to the file all prime numbers between 600 and 800."
      ],
      "metadata": {
        "id": "K1whD_4DvkKb"
      }
    },
    {
      "cell_type": "code",
      "source": [
        "L=[i for i in range(600,801)]\n",
        "print(L)\n",
        "def if_prime(n):\n",
        "  if n<2:\n",
        "    return False\n",
        "  else:\n",
        "    for i in range(2,int(n**0.5)+1):\n",
        "      if n%i==0:\n",
        "        return False\n",
        "    return True\n",
        "fp=open('Q10.txt','w')\n",
        "for i in L:\n",
        "  if if_prime(i):\n",
        "     fp.write(f'{i} \\n')\n",
        "  else:\n",
        "    continue\n",
        "fp.close()"
      ],
      "metadata": {
        "colab": {
          "base_uri": "https://localhost:8080/"
        },
        "id": "h2mhsks1vo4e",
        "outputId": "a74c7872-b350-4de8-bd16-3496125751ea"
      },
      "execution_count": 25,
      "outputs": [
        {
          "output_type": "stream",
          "name": "stdout",
          "text": [
            "[600, 601, 602, 603, 604, 605, 606, 607, 608, 609, 610, 611, 612, 613, 614, 615, 616, 617, 618, 619, 620, 621, 622, 623, 624, 625, 626, 627, 628, 629, 630, 631, 632, 633, 634, 635, 636, 637, 638, 639, 640, 641, 642, 643, 644, 645, 646, 647, 648, 649, 650, 651, 652, 653, 654, 655, 656, 657, 658, 659, 660, 661, 662, 663, 664, 665, 666, 667, 668, 669, 670, 671, 672, 673, 674, 675, 676, 677, 678, 679, 680, 681, 682, 683, 684, 685, 686, 687, 688, 689, 690, 691, 692, 693, 694, 695, 696, 697, 698, 699, 700, 701, 702, 703, 704, 705, 706, 707, 708, 709, 710, 711, 712, 713, 714, 715, 716, 717, 718, 719, 720, 721, 722, 723, 724, 725, 726, 727, 728, 729, 730, 731, 732, 733, 734, 735, 736, 737, 738, 739, 740, 741, 742, 743, 744, 745, 746, 747, 748, 749, 750, 751, 752, 753, 754, 755, 756, 757, 758, 759, 760, 761, 762, 763, 764, 765, 766, 767, 768, 769, 770, 771, 772, 773, 774, 775, 776, 777, 778, 779, 780, 781, 782, 783, 784, 785, 786, 787, 788, 789, 790, 791, 792, 793, 794, 795, 796, 797, 798, 799, 800]\n"
          ]
        }
      ]
    },
    {
      "cell_type": "markdown",
      "source": [
        "####Q11. WAP to calculate the time taken by a program."
      ],
      "metadata": {
        "id": "NE18WQABGuZd"
      }
    },
    {
      "cell_type": "code",
      "source": [
        "import time as t\n",
        "start=t.time()\n",
        "for i in range(1,10000000):\n",
        "  a=i*0.5\n",
        "end=t.time()\n",
        "execution= start-end\n",
        "print(f'Execution time ={execution}secs')"
      ],
      "metadata": {
        "colab": {
          "base_uri": "https://localhost:8080/"
        },
        "id": "0vG-IbWCG2Yr",
        "outputId": "d0cc84d6-9695-4ea4-8fb9-39bb79c6d7c6"
      },
      "execution_count": null,
      "outputs": [
        {
          "output_type": "stream",
          "name": "stdout",
          "text": [
            "Execution time =-3.4367659091949463secs\n"
          ]
        }
      ]
    },
    {
      "cell_type": "markdown",
      "source": [
        "Q12. WAP to sort following number of elements in a list, calculate time taken and plot the graph.    \n",
        "![h1.jpg](data:image/jpeg;base64,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)\n"
      ],
      "metadata": {
        "id": "NL6v4Ye48e_P"
      }
    },
    {
      "cell_type": "code",
      "source": [
        "import random as r\n",
        "import matplotlib.pyplot as plt\n",
        "import time as t\n",
        "\n",
        "num=[5000,10000,15000,20000,25000]\n",
        "times=[]\n",
        "\n",
        "for size in num:\n",
        "  lst=r.choices(range(1,(size*10),size),k=5000)\n",
        "  start=t.time()\n",
        "  lst.sort()\n",
        "  end=t.time()\n",
        "  tt=end-start\n",
        "  times.append(tt)\n",
        "  print(f'Sorted {size} elements in {tt:.5f} secs')\n",
        "plt.plot(num, times, linestyle='-')\n",
        "plt.title(\"Time Taken to Sort Lists of Varying Sizes\")\n",
        "plt.xlabel(\"Number of Elements\")\n",
        "plt.ylabel(\"Time Taken (seconds)\")\n",
        "plt.show()\n"
      ],
      "metadata": {
        "colab": {
          "base_uri": "https://localhost:8080/",
          "height": 562
        },
        "id": "OLkbhubM8eqN",
        "outputId": "3c3d11f0-589f-4391-c559-f817e8f46ffd"
      },
      "execution_count": null,
      "outputs": [
        {
          "output_type": "stream",
          "name": "stdout",
          "text": [
            "Sorted 5000 elements in 0.00044 secs\n",
            "Sorted 10000 elements in 0.00048 secs\n",
            "Sorted 15000 elements in 0.00043 secs\n",
            "Sorted 20000 elements in 0.00045 secs\n",
            "Sorted 25000 elements in 0.00044 secs\n"
          ]
        },
        {
          "output_type": "display_data",
          "data": {
            "text/plain": [
              "<Figure size 640x480 with 1 Axes>"
            ],
            "image/png": "[encoded data removed]"
          },
          "metadata": {}
        }
      ]
    },
    {
      "cell_type": "markdown",
      "source": [
        "####Q13. WAP to create a dictionary of student marks in five subjects\n",
        "and you have to find the student  \n",
        "having maximum and minimum average marks."
      ],
      "metadata": {
        "id": "YYzCfcEdASr9"
      }
    },
    {
      "cell_type": "code",
      "source": [
        "D={'s1': [85, 90, 78, 92, 88],\n",
        "    's2': [75, 80, 70, 68, 72],\n",
        "    's3': [95, 85, 90, 92, 94],\n",
        "    's4': [60, 65, 58, 62, 61],\n",
        "    's5': [88, 86, 84, 90, 89]}\n",
        "avgs={}\n",
        "for name,marks in D.items():\n",
        "  avg=sum(marks)/len(marks)\n",
        "  avgs[name]=avg\n",
        "a=max(avgs.values())\n",
        "b=min(avgs.values())\n",
        "for k, v in avgs.items():\n",
        "    if v == a:\n",
        "        print(f'Maxiumum Average marks is {a:.2f} of {k}')\n",
        "for m, n in avgs.items():\n",
        "    if n == b:\n",
        "        print(f'Minimum Average marks is {b:.2f} of {m}')\n"
      ],
      "metadata": {
        "colab": {
          "base_uri": "https://localhost:8080/"
        },
        "id": "tXZWeV4MAdsJ",
        "outputId": "214f4127-4e7e-4e39-de06-fd5398ffdda4"
      },
      "execution_count": null,
      "outputs": [
        {
          "output_type": "stream",
          "name": "stdout",
          "text": [
            "Maxiumum Average marks is 91.20 of s3\n",
            "Minimum Average marks is 61.20 of s4\n"
          ]
        }
      ]
    }
  ]
}